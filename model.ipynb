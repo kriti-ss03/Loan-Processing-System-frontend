{
 "cells": [
  {
   "cell_type": "markdown",
   "id": "014da66f-8d89-49aa-b74a-3cccae827a78",
   "metadata": {},
   "source": [
    "# Loan Processing Model"
   ]
  },
  {
   "cell_type": "code",
   "execution_count": 1569,
   "id": "da0c93ca-c240-4abd-bc9a-6924deec6a6d",
   "metadata": {},
   "outputs": [
    {
     "name": "stdout",
     "output_type": "stream",
     "text": [
      "/Users/harianshsehgal/Development/induction_project/notebooks\n"
     ]
    }
   ],
   "source": [
    "import os\n",
    "print(os.getcwd())"
   ]
  },
  {
   "cell_type": "code",
   "execution_count": 1570,
   "id": "adda71a2-6c2d-4a08-8dde-0388900fc5b3",
   "metadata": {},
   "outputs": [],
   "source": [
    "import matplotlib.pyplot as plt\n",
    "import seaborn as sns\n",
    "import pandas as pd"
   ]
  },
  {
   "cell_type": "code",
   "execution_count": 1571,
   "id": "4fceedea-7fab-4873-9d12-15da954124c5",
   "metadata": {},
   "outputs": [
    {
     "data": {
      "text/html": [
       "<div>\n",
       "<style scoped>\n",
       "    .dataframe tbody tr th:only-of-type {\n",
       "        vertical-align: middle;\n",
       "    }\n",
       "\n",
       "    .dataframe tbody tr th {\n",
       "        vertical-align: top;\n",
       "    }\n",
       "\n",
       "    .dataframe thead th {\n",
       "        text-align: right;\n",
       "    }\n",
       "</style>\n",
       "<table border=\"1\" class=\"dataframe\">\n",
       "  <thead>\n",
       "    <tr style=\"text-align: right;\">\n",
       "      <th></th>\n",
       "      <th>id</th>\n",
       "      <th>loan_amnt</th>\n",
       "      <th>emp_length</th>\n",
       "      <th>annual_inc</th>\n",
       "      <th>delinq_2yrs</th>\n",
       "      <th>inq_last_6mths</th>\n",
       "      <th>mths_since_last_delinq</th>\n",
       "      <th>mths_since_last_record</th>\n",
       "      <th>open_acc</th>\n",
       "      <th>pub_rec</th>\n",
       "      <th>revol_bal</th>\n",
       "      <th>revol_util</th>\n",
       "      <th>total_acc</th>\n",
       "      <th>earliest_cr_line</th>\n",
       "      <th>purpose</th>\n",
       "      <th>desc</th>\n",
       "      <th>loan_status</th>\n",
       "    </tr>\n",
       "  </thead>\n",
       "  <tbody>\n",
       "    <tr>\n",
       "      <th>0</th>\n",
       "      <td>1002603</td>\n",
       "      <td>30000</td>\n",
       "      <td>1</td>\n",
       "      <td>93000.0</td>\n",
       "      <td>0</td>\n",
       "      <td>1</td>\n",
       "      <td>120</td>\n",
       "      <td>130</td>\n",
       "      <td>10</td>\n",
       "      <td>0</td>\n",
       "      <td>43209</td>\n",
       "      <td>0.41</td>\n",
       "      <td>32</td>\n",
       "      <td>7/18/1990 3:54</td>\n",
       "      <td>debt_consolidation</td>\n",
       "      <td>NaN</td>\n",
       "      <td>Current</td>\n",
       "    </tr>\n",
       "    <tr>\n",
       "      <th>1</th>\n",
       "      <td>1024806</td>\n",
       "      <td>22000</td>\n",
       "      <td>6</td>\n",
       "      <td>70000.0</td>\n",
       "      <td>1</td>\n",
       "      <td>0</td>\n",
       "      <td>10</td>\n",
       "      <td>130</td>\n",
       "      <td>11</td>\n",
       "      <td>0</td>\n",
       "      <td>38928</td>\n",
       "      <td>0.85</td>\n",
       "      <td>36</td>\n",
       "      <td>10/7/1983 8:46</td>\n",
       "      <td>debt_consolidation</td>\n",
       "      <td>Borrower added on 11/09/11 &gt; This loan is fo...</td>\n",
       "      <td>Fully Paid</td>\n",
       "    </tr>\n",
       "    <tr>\n",
       "      <th>2</th>\n",
       "      <td>663413</td>\n",
       "      <td>3700</td>\n",
       "      <td>10</td>\n",
       "      <td>117000.0</td>\n",
       "      <td>1</td>\n",
       "      <td>1</td>\n",
       "      <td>10</td>\n",
       "      <td>130</td>\n",
       "      <td>9</td>\n",
       "      <td>0</td>\n",
       "      <td>19382</td>\n",
       "      <td>0.86</td>\n",
       "      <td>24</td>\n",
       "      <td>4/7/1992 11:32</td>\n",
       "      <td>credit_card</td>\n",
       "      <td>Borrower added on 01/28/11 &gt; pay off credit ...</td>\n",
       "      <td>Fully Paid</td>\n",
       "    </tr>\n",
       "    <tr>\n",
       "      <th>3</th>\n",
       "      <td>810093</td>\n",
       "      <td>7600</td>\n",
       "      <td>1</td>\n",
       "      <td>33996.0</td>\n",
       "      <td>0</td>\n",
       "      <td>0</td>\n",
       "      <td>120</td>\n",
       "      <td>130</td>\n",
       "      <td>10</td>\n",
       "      <td>0</td>\n",
       "      <td>1962</td>\n",
       "      <td>0.48</td>\n",
       "      <td>18</td>\n",
       "      <td>1/21/2003 2:40</td>\n",
       "      <td>other</td>\n",
       "      <td>Borrower added on 07/11/11 &gt; I have been con...</td>\n",
       "      <td>Current</td>\n",
       "    </tr>\n",
       "    <tr>\n",
       "      <th>4</th>\n",
       "      <td>865474</td>\n",
       "      <td>12000</td>\n",
       "      <td>7</td>\n",
       "      <td>75000.0</td>\n",
       "      <td>0</td>\n",
       "      <td>1</td>\n",
       "      <td>24</td>\n",
       "      <td>130</td>\n",
       "      <td>13</td>\n",
       "      <td>0</td>\n",
       "      <td>13528</td>\n",
       "      <td>0.51</td>\n",
       "      <td>23</td>\n",
       "      <td>9/8/1997 7:19</td>\n",
       "      <td>debt_consolidation</td>\n",
       "      <td>NaN</td>\n",
       "      <td>Fully Paid</td>\n",
       "    </tr>\n",
       "  </tbody>\n",
       "</table>\n",
       "</div>"
      ],
      "text/plain": [
       "        id  loan_amnt  emp_length  annual_inc  delinq_2yrs  inq_last_6mths  \\\n",
       "0  1002603      30000           1     93000.0            0               1   \n",
       "1  1024806      22000           6     70000.0            1               0   \n",
       "2   663413       3700          10    117000.0            1               1   \n",
       "3   810093       7600           1     33996.0            0               0   \n",
       "4   865474      12000           7     75000.0            0               1   \n",
       "\n",
       "   mths_since_last_delinq  mths_since_last_record  open_acc  pub_rec  \\\n",
       "0                     120                     130        10        0   \n",
       "1                      10                     130        11        0   \n",
       "2                      10                     130         9        0   \n",
       "3                     120                     130        10        0   \n",
       "4                      24                     130        13        0   \n",
       "\n",
       "   revol_bal  revol_util  total_acc earliest_cr_line             purpose  \\\n",
       "0      43209        0.41         32   7/18/1990 3:54  debt_consolidation   \n",
       "1      38928        0.85         36   10/7/1983 8:46  debt_consolidation   \n",
       "2      19382        0.86         24   4/7/1992 11:32         credit_card   \n",
       "3       1962        0.48         18   1/21/2003 2:40               other   \n",
       "4      13528        0.51         23    9/8/1997 7:19  debt_consolidation   \n",
       "\n",
       "                                                desc loan_status  \n",
       "0                                                NaN     Current  \n",
       "1    Borrower added on 11/09/11 > This loan is fo...  Fully Paid  \n",
       "2    Borrower added on 01/28/11 > pay off credit ...  Fully Paid  \n",
       "3    Borrower added on 07/11/11 > I have been con...     Current  \n",
       "4                                                NaN  Fully Paid  "
      ]
     },
     "execution_count": 1571,
     "metadata": {},
     "output_type": "execute_result"
    }
   ],
   "source": [
    "file_path = '/Users/harianshsehgal/Development/induction_project/data/Modeling dataset.csv'\n",
    "df = pd.read_csv(file_path)\n",
    "df.head()\n"
   ]
  },
  {
   "cell_type": "code",
   "execution_count": 1572,
   "id": "540037bc-0f30-4b49-a639-489ee5abcfca",
   "metadata": {},
   "outputs": [],
   "source": [
    "df = df.drop_duplicates()"
   ]
  },
  {
   "cell_type": "code",
   "execution_count": 1573,
   "id": "0fa061f5-6d70-4890-a2d7-ad1a0587c72e",
   "metadata": {},
   "outputs": [
    {
     "name": "stdout",
     "output_type": "stream",
     "text": [
      "Index(['id', 'loan_amnt', 'emp_length', 'annual_inc', 'delinq_2yrs',\n",
      "       'inq_last_6mths', 'mths_since_last_delinq', 'mths_since_last_record',\n",
      "       'open_acc', 'pub_rec', 'revol_bal', 'revol_util', 'total_acc',\n",
      "       'earliest_cr_line', 'purpose', 'desc', 'loan_status'],\n",
      "      dtype='object')\n"
     ]
    }
   ],
   "source": [
    "print(df.columns)"
   ]
  },
  {
   "cell_type": "markdown",
   "id": "69597022-3a5f-4a9c-8e35-9010a7274072",
   "metadata": {},
   "source": [
    "# Adding new features"
   ]
  },
  {
   "cell_type": "code",
   "execution_count": 1575,
   "id": "a3caf184-c271-46de-92e1-ea020732b59a",
   "metadata": {},
   "outputs": [],
   "source": [
    "df['dti'] = df['loan_amnt'] / df['annual_inc']"
   ]
  },
  {
   "cell_type": "code",
   "execution_count": 1576,
   "id": "c49d572d-68e9-4ebb-a6ce-94cbffec4643",
   "metadata": {},
   "outputs": [
    {
     "name": "stdout",
     "output_type": "stream",
     "text": [
      "        id  loan_amnt  emp_length  annual_inc  delinq_2yrs  inq_last_6mths  \\\n",
      "0  1002603      30000           1     93000.0            0               1   \n",
      "1  1024806      22000           6     70000.0            1               0   \n",
      "2   663413       3700          10    117000.0            1               1   \n",
      "3   810093       7600           1     33996.0            0               0   \n",
      "4   865474      12000           7     75000.0            0               1   \n",
      "\n",
      "   mths_since_last_delinq  mths_since_last_record  open_acc  pub_rec  \\\n",
      "0                     120                     130        10        0   \n",
      "1                      10                     130        11        0   \n",
      "2                      10                     130         9        0   \n",
      "3                     120                     130        10        0   \n",
      "4                      24                     130        13        0   \n",
      "\n",
      "   revol_bal  revol_util  total_acc    earliest_cr_line             purpose  \\\n",
      "0      43209        0.41         32 1990-07-18 03:54:00  debt_consolidation   \n",
      "1      38928        0.85         36 1983-10-07 08:46:00  debt_consolidation   \n",
      "2      19382        0.86         24 1992-04-07 11:32:00         credit_card   \n",
      "3       1962        0.48         18 2003-01-21 02:40:00               other   \n",
      "4      13528        0.51         23 1997-09-08 07:19:00  debt_consolidation   \n",
      "\n",
      "                                                desc loan_status       dti  \\\n",
      "0                                                NaN     Current  0.322581   \n",
      "1    Borrower added on 11/09/11 > This loan is fo...  Fully Paid  0.314286   \n",
      "2    Borrower added on 01/28/11 > pay off credit ...  Fully Paid  0.031624   \n",
      "3    Borrower added on 07/11/11 > I have been con...     Current  0.223556   \n",
      "4                                                NaN  Fully Paid  0.160000   \n",
      "\n",
      "   credit_age  \n",
      "0   34.039699  \n",
      "1   40.818617  \n",
      "2   32.317591  \n",
      "3   21.527721  \n",
      "4   26.896646  \n"
     ]
    }
   ],
   "source": [
    "\n",
    "from datetime import datetime\n",
    "\n",
    "df['earliest_cr_line'] = pd.to_datetime(df['earliest_cr_line'], errors='coerce')\n",
    "\n",
    "# Calculating age of credit line in years\n",
    "now = datetime.now()\n",
    "df['credit_age'] = (now - df['earliest_cr_line']).dt.days / 365.25\n",
    "\n",
    "print(df.head())"
   ]
  },
  {
   "attachments": {},
   "cell_type": "markdown",
   "id": "530416f3-6a1e-4061-a9a6-163bf907cf74",
   "metadata": {},
   "source": [
    "# Converting the discrete “purpose” and \"loan status\" fields into binary fields"
   ]
  },
  {
   "cell_type": "code",
   "execution_count": 1578,
   "id": "7871162f-9660-484c-886b-b15a531e79e0",
   "metadata": {},
   "outputs": [
    {
     "name": "stdout",
     "output_type": "stream",
     "text": [
      "unique_purposes:  ['debt_consolidation' 'credit_card' 'other' 'home_improvement'\n",
      " 'small_business' 'major_purchase' 'car' 'wedding' 'medical' 'house'\n",
      " 'moving' 'vacation' 'educational' 'renewable_energy']\n"
     ]
    }
   ],
   "source": [
    "unique_purposes = df['purpose'].unique()\n",
    "print(\"unique_purposes: \", unique_purposes)"
   ]
  },
  {
   "cell_type": "code",
   "execution_count": 1579,
   "id": "e5e4ee00-81ba-4ed1-9e98-2490e50c9d2b",
   "metadata": {},
   "outputs": [
    {
     "name": "stdout",
     "output_type": "stream",
     "text": [
      "unique_loan_status:  ['Current' 'Fully Paid' 'Charged Off' 'Late (31-120 days)'\n",
      " 'In Grace Period' 'Late (16-30 days)' 'Default']\n"
     ]
    }
   ],
   "source": [
    "unique_loan_status = df['loan_status'].unique()\n",
    "print(\"unique_loan_status: \", unique_loan_status)"
   ]
  },
  {
   "cell_type": "code",
   "execution_count": 1580,
   "id": "7aca6b85-be00-48ee-bf59-8c5bfa80d43d",
   "metadata": {},
   "outputs": [
    {
     "name": "stdout",
     "output_type": "stream",
     "text": [
      "0    1\n",
      "1    1\n",
      "2    1\n",
      "3    1\n",
      "4    1\n",
      "Name: loan_status, dtype: int64\n"
     ]
    }
   ],
   "source": [
    "loan_status_mapping = {\n",
    "    'Current': 1,\n",
    "    'Fully Paid': 1,\n",
    "    'In Grace Period': 1,\n",
    "    'Late (16-30 days)': 0,\n",
    "    'Charged Off': 0,\n",
    "    'Late (31-120 days)': 0,\n",
    "    'Default': 0\n",
    "}\n",
    "\n",
    "df['loan_status'] = df['loan_status'].map(loan_status_mapping)\n",
    "df['loan_status'] = df['loan_status'].fillna(-1).astype(int)\n",
    "\n",
    "print(df['loan_status'].head())"
   ]
  },
  {
   "cell_type": "code",
   "execution_count": 1581,
   "id": "88907fed-8658-47e7-8023-821d2ff8c902",
   "metadata": {},
   "outputs": [
    {
     "name": "stdout",
     "output_type": "stream",
     "text": [
      "purpose\n",
      "small_business        74.193548\n",
      "renewable_energy      78.787879\n",
      "educational           79.807692\n",
      "moving                83.544304\n",
      "medical               84.579439\n",
      "other                 85.445626\n",
      "house                 85.714286\n",
      "debt_consolidation    86.790227\n",
      "vacation              87.068966\n",
      "car                   88.270378\n",
      "home_improvement      88.568486\n",
      "credit_card           90.494541\n",
      "major_purchase        90.620491\n",
      "wedding               91.082803\n",
      "dtype: float64\n"
     ]
    }
   ],
   "source": [
    "purpose_loan_status = df.groupby(['purpose', 'loan_status'])['loan_status'].count().unstack().fillna(0)\n",
    "# print(purpose_loan_status)\n",
    "\n",
    "# calculating the percentage of loan status paid by categories in purposes , loan status 1 means paid, 0 means not paid\n",
    "purpose_totals = purpose_loan_status.sum(axis=1)\n",
    "percentage_paid = purpose_loan_status[1] / purpose_totals * 100\n",
    "\n",
    "# Sort the percentages in ascending order\n",
    "sorted_percentages = percentage_paid.sort_values()\n",
    "\n",
    "# Print the sorted results\n",
    "print(sorted_percentages)"
   ]
  },
  {
   "cell_type": "code",
   "execution_count": 1582,
   "id": "81414449-5985-4161-ab00-939f8fa6f2ec",
   "metadata": {},
   "outputs": [
    {
     "name": "stdout",
     "output_type": "stream",
     "text": [
      "0    1\n",
      "1    1\n",
      "2    1\n",
      "3    1\n",
      "4    1\n",
      "Name: purpose, dtype: int64\n"
     ]
    }
   ],
   "source": [
    "# keeping cut off percentage as 85%\n",
    "purpose_mapping = {\n",
    "    'small_business':0,\n",
    "    'educational':0,\n",
    "    'renewable_energy':0,\n",
    "    'medical':0,\n",
    "    'moving':0,\n",
    "    'other':1,\n",
    "    'vacation':1,\n",
    "    'debt_consolidation':1,\n",
    "    'house':1,\n",
    "    'car':1,\n",
    "    'home_improvement':1,\n",
    "    'major_purchase':1,\n",
    "    'credit_card':1,\n",
    "    'wedding':1\n",
    "}\n",
    "# Replacing text fields with numbers\n",
    "df['purpose'] = df['purpose'].map(purpose_mapping)\n",
    "# .infer_objects(copy=False)\n",
    "df['purpose'] = df['purpose'].fillna(-1).astype(int)\n",
    "\n",
    "print(df['purpose'].head())"
   ]
  },
  {
   "cell_type": "code",
   "execution_count": 1583,
   "id": "b5784666-19f2-4545-ba43-5a3ba4750ebf",
   "metadata": {},
   "outputs": [
    {
     "name": "stdout",
     "output_type": "stream",
     "text": [
      "['id', 'loan_amnt', 'emp_length', 'annual_inc', 'delinq_2yrs', 'inq_last_6mths', 'mths_since_last_delinq', 'mths_since_last_record', 'open_acc', 'pub_rec', 'revol_bal', 'revol_util', 'total_acc', 'earliest_cr_line', 'purpose', 'desc', 'loan_status', 'dti', 'credit_age']\n"
     ]
    }
   ],
   "source": [
    "print(list(df.columns))"
   ]
  },
  {
   "cell_type": "code",
   "execution_count": 1584,
   "id": "c597091f-432c-46d5-91ea-bc5981f5bd33",
   "metadata": {},
   "outputs": [
    {
     "data": {
      "text/html": [
       "<div>\n",
       "<style scoped>\n",
       "    .dataframe tbody tr th:only-of-type {\n",
       "        vertical-align: middle;\n",
       "    }\n",
       "\n",
       "    .dataframe tbody tr th {\n",
       "        vertical-align: top;\n",
       "    }\n",
       "\n",
       "    .dataframe thead th {\n",
       "        text-align: right;\n",
       "    }\n",
       "</style>\n",
       "<table border=\"1\" class=\"dataframe\">\n",
       "  <thead>\n",
       "    <tr style=\"text-align: right;\">\n",
       "      <th></th>\n",
       "      <th>id</th>\n",
       "      <th>loan_amnt</th>\n",
       "      <th>emp_length</th>\n",
       "      <th>annual_inc</th>\n",
       "      <th>delinq_2yrs</th>\n",
       "      <th>inq_last_6mths</th>\n",
       "      <th>mths_since_last_delinq</th>\n",
       "      <th>mths_since_last_record</th>\n",
       "      <th>open_acc</th>\n",
       "      <th>pub_rec</th>\n",
       "      <th>revol_bal</th>\n",
       "      <th>revol_util</th>\n",
       "      <th>total_acc</th>\n",
       "      <th>earliest_cr_line</th>\n",
       "      <th>purpose</th>\n",
       "      <th>desc</th>\n",
       "      <th>loan_status</th>\n",
       "      <th>dti</th>\n",
       "      <th>credit_age</th>\n",
       "    </tr>\n",
       "  </thead>\n",
       "  <tbody>\n",
       "    <tr>\n",
       "      <th>0</th>\n",
       "      <td>1002603</td>\n",
       "      <td>30000</td>\n",
       "      <td>1</td>\n",
       "      <td>93000.0</td>\n",
       "      <td>0</td>\n",
       "      <td>1</td>\n",
       "      <td>120</td>\n",
       "      <td>130</td>\n",
       "      <td>10</td>\n",
       "      <td>0</td>\n",
       "      <td>43209</td>\n",
       "      <td>0.41</td>\n",
       "      <td>32</td>\n",
       "      <td>1990-07-18 03:54:00</td>\n",
       "      <td>1</td>\n",
       "      <td>NaN</td>\n",
       "      <td>1</td>\n",
       "      <td>0.322581</td>\n",
       "      <td>34.039699</td>\n",
       "    </tr>\n",
       "    <tr>\n",
       "      <th>1</th>\n",
       "      <td>1024806</td>\n",
       "      <td>22000</td>\n",
       "      <td>6</td>\n",
       "      <td>70000.0</td>\n",
       "      <td>1</td>\n",
       "      <td>0</td>\n",
       "      <td>10</td>\n",
       "      <td>130</td>\n",
       "      <td>11</td>\n",
       "      <td>0</td>\n",
       "      <td>38928</td>\n",
       "      <td>0.85</td>\n",
       "      <td>36</td>\n",
       "      <td>1983-10-07 08:46:00</td>\n",
       "      <td>1</td>\n",
       "      <td>Borrower added on 11/09/11 &gt; This loan is fo...</td>\n",
       "      <td>1</td>\n",
       "      <td>0.314286</td>\n",
       "      <td>40.818617</td>\n",
       "    </tr>\n",
       "    <tr>\n",
       "      <th>2</th>\n",
       "      <td>663413</td>\n",
       "      <td>3700</td>\n",
       "      <td>10</td>\n",
       "      <td>117000.0</td>\n",
       "      <td>1</td>\n",
       "      <td>1</td>\n",
       "      <td>10</td>\n",
       "      <td>130</td>\n",
       "      <td>9</td>\n",
       "      <td>0</td>\n",
       "      <td>19382</td>\n",
       "      <td>0.86</td>\n",
       "      <td>24</td>\n",
       "      <td>1992-04-07 11:32:00</td>\n",
       "      <td>1</td>\n",
       "      <td>Borrower added on 01/28/11 &gt; pay off credit ...</td>\n",
       "      <td>1</td>\n",
       "      <td>0.031624</td>\n",
       "      <td>32.317591</td>\n",
       "    </tr>\n",
       "    <tr>\n",
       "      <th>3</th>\n",
       "      <td>810093</td>\n",
       "      <td>7600</td>\n",
       "      <td>1</td>\n",
       "      <td>33996.0</td>\n",
       "      <td>0</td>\n",
       "      <td>0</td>\n",
       "      <td>120</td>\n",
       "      <td>130</td>\n",
       "      <td>10</td>\n",
       "      <td>0</td>\n",
       "      <td>1962</td>\n",
       "      <td>0.48</td>\n",
       "      <td>18</td>\n",
       "      <td>2003-01-21 02:40:00</td>\n",
       "      <td>1</td>\n",
       "      <td>Borrower added on 07/11/11 &gt; I have been con...</td>\n",
       "      <td>1</td>\n",
       "      <td>0.223556</td>\n",
       "      <td>21.527721</td>\n",
       "    </tr>\n",
       "    <tr>\n",
       "      <th>4</th>\n",
       "      <td>865474</td>\n",
       "      <td>12000</td>\n",
       "      <td>7</td>\n",
       "      <td>75000.0</td>\n",
       "      <td>0</td>\n",
       "      <td>1</td>\n",
       "      <td>24</td>\n",
       "      <td>130</td>\n",
       "      <td>13</td>\n",
       "      <td>0</td>\n",
       "      <td>13528</td>\n",
       "      <td>0.51</td>\n",
       "      <td>23</td>\n",
       "      <td>1997-09-08 07:19:00</td>\n",
       "      <td>1</td>\n",
       "      <td>NaN</td>\n",
       "      <td>1</td>\n",
       "      <td>0.160000</td>\n",
       "      <td>26.896646</td>\n",
       "    </tr>\n",
       "  </tbody>\n",
       "</table>\n",
       "</div>"
      ],
      "text/plain": [
       "        id  loan_amnt  emp_length  annual_inc  delinq_2yrs  inq_last_6mths  \\\n",
       "0  1002603      30000           1     93000.0            0               1   \n",
       "1  1024806      22000           6     70000.0            1               0   \n",
       "2   663413       3700          10    117000.0            1               1   \n",
       "3   810093       7600           1     33996.0            0               0   \n",
       "4   865474      12000           7     75000.0            0               1   \n",
       "\n",
       "   mths_since_last_delinq  mths_since_last_record  open_acc  pub_rec  \\\n",
       "0                     120                     130        10        0   \n",
       "1                      10                     130        11        0   \n",
       "2                      10                     130         9        0   \n",
       "3                     120                     130        10        0   \n",
       "4                      24                     130        13        0   \n",
       "\n",
       "   revol_bal  revol_util  total_acc    earliest_cr_line  purpose  \\\n",
       "0      43209        0.41         32 1990-07-18 03:54:00        1   \n",
       "1      38928        0.85         36 1983-10-07 08:46:00        1   \n",
       "2      19382        0.86         24 1992-04-07 11:32:00        1   \n",
       "3       1962        0.48         18 2003-01-21 02:40:00        1   \n",
       "4      13528        0.51         23 1997-09-08 07:19:00        1   \n",
       "\n",
       "                                                desc  loan_status       dti  \\\n",
       "0                                                NaN            1  0.322581   \n",
       "1    Borrower added on 11/09/11 > This loan is fo...            1  0.314286   \n",
       "2    Borrower added on 01/28/11 > pay off credit ...            1  0.031624   \n",
       "3    Borrower added on 07/11/11 > I have been con...            1  0.223556   \n",
       "4                                                NaN            1  0.160000   \n",
       "\n",
       "   credit_age  \n",
       "0   34.039699  \n",
       "1   40.818617  \n",
       "2   32.317591  \n",
       "3   21.527721  \n",
       "4   26.896646  "
      ]
     },
     "execution_count": 1584,
     "metadata": {},
     "output_type": "execute_result"
    }
   ],
   "source": [
    "df.head()"
   ]
  },
  {
   "cell_type": "markdown",
   "id": "bc355655-94b6-4831-bf56-f388193d84a0",
   "metadata": {},
   "source": [
    "# handle description"
   ]
  },
  {
   "cell_type": "code",
   "execution_count": 1586,
   "id": "743cdda7-2d81-4ad7-a50e-f65a33f63dbf",
   "metadata": {},
   "outputs": [],
   "source": [
    "from wordcloud import WordCloud\n",
    "from collections import Counter\n",
    "import re"
   ]
  },
  {
   "cell_type": "code",
   "execution_count": 1587,
   "id": "6c286e4c-c56e-4450-9177-6ff2c873d52d",
   "metadata": {},
   "outputs": [],
   "source": [
    "df['desc'] = df['desc'].astype(str)\n",
    "\n",
    "# Function to preprocess text\n",
    "def preprocess_text(text):\n",
    "    text = text.lower()  # Convert to lowercase\n",
    "    text = re.sub(r'[^\\w\\s]', '', text)  # Remove punctuation\n",
    "    return text\n",
    "\n",
    "# Apply preprocessing to the 'desc' column\n",
    "df['cleaned_desc'] = df['desc'].apply(preprocess_text)"
   ]
  },
  {
   "cell_type": "code",
   "execution_count": 1588,
   "id": "29ed8fb6-231d-4e5a-9912-5fcea81fe0f0",
   "metadata": {},
   "outputs": [
    {
     "name": "stderr",
     "output_type": "stream",
     "text": [
      "[nltk_data] Downloading package stopwords to\n",
      "[nltk_data]     /Users/harianshsehgal/nltk_data...\n",
      "[nltk_data]   Package stopwords is already up-to-date!\n",
      "[nltk_data] Downloading package punkt to\n",
      "[nltk_data]     /Users/harianshsehgal/nltk_data...\n",
      "[nltk_data]   Package punkt is already up-to-date!\n"
     ]
    },
    {
     "data": {
      "text/plain": [
       "True"
      ]
     },
     "execution_count": 1588,
     "metadata": {},
     "output_type": "execute_result"
    }
   ],
   "source": [
    "import pandas as pd\n",
    "import matplotlib.pyplot as plt\n",
    "from wordcloud import WordCloud\n",
    "from collections import Counter\n",
    "import nltk\n",
    "import re\n",
    "nltk.download('stopwords')\n",
    "nltk.download('punkt')"
   ]
  },
  {
   "cell_type": "code",
   "execution_count": 1589,
   "id": "75905af6-767e-48e9-aae3-11f450b470a9",
   "metadata": {},
   "outputs": [],
   "source": [
    "from nltk.corpus import stopwords\n",
    "\n",
    "# Get stop words list\n",
    "stop_words = set(stopwords.words('english'))\n",
    "\n",
    "# Tokenize and remove stop words\n",
    "def remove_stop_words(text):\n",
    "    tokens = text.split()  # Tokenize by splitting on whitespace\n",
    "    filtered_tokens = [word for word in tokens if word not in stop_words]\n",
    "    return ' '.join(filtered_tokens)\n",
    "\n",
    "df['filtered_desc'] = df['cleaned_desc'].apply(remove_stop_words)\n"
   ]
  },
  {
   "cell_type": "code",
   "execution_count": 1590,
   "id": "ad133588-4290-47a2-8a86-9a0bed34bea1",
   "metadata": {},
   "outputs": [],
   "source": [
    "# Combine all filtered descriptions into a single string\n",
    "all_filtered_text = ' '.join(df['filtered_desc'])\n",
    "\n",
    "# Tokenize words\n",
    "tokens = all_filtered_text.split()\n",
    "\n",
    "# Count word frequencies\n",
    "word_freq = Counter(tokens)\n",
    "\n",
    "# Convert to DataFrame for easier plotting\n",
    "word_freq_df = pd.DataFrame(word_freq.items(), columns=['Word', 'Frequency']).sort_values(by='Frequency', ascending=False)"
   ]
  },
  {
   "cell_type": "code",
   "execution_count": 1591,
   "id": "8407d58f-6923-45b9-8d25-4ea33b36ee00",
   "metadata": {},
   "outputs": [
    {
     "name": "stdout",
     "output_type": "stream",
     "text": [
      "        Word  Frequency\n",
      "2      added       9751\n",
      "1   borrower       9569\n",
      "4       loan       7729\n",
      "21    credit       7451\n",
      "17       pay       5657\n"
     ]
    }
   ],
   "source": [
    "print(top_words)"
   ]
  },
  {
   "cell_type": "code",
   "execution_count": 1637,
   "id": "f6d0dcc0-b500-47cc-8482-6d9ef2124273",
   "metadata": {},
   "outputs": [
    {
     "data": {
      "image/png": "[encoded data removed]",
      "text/plain": [
       "<Figure size 1200x800 with 1 Axes>"
      ]
     },
     "metadata": {},
     "output_type": "display_data"
    }
   ],
   "source": [
    "# Plot top words\n",
    "plt.figure(figsize=(12, 8))\n",
    "top_words = word_freq_df.head(10)  # Top 5 most common words\n",
    "plt.bar(top_words['Word'], top_words['Frequency'], color='skyblue')\n",
    "plt.xlabel('Words')\n",
    "plt.ylabel('Frequency')\n",
    "plt.title('Top 10 Most Common Words (Excluding Stop Words)')\n",
    "plt.xticks(rotation=45)\n",
    "plt.show()"
   ]
  },
  {
   "cell_type": "code",
   "execution_count": 1593,
   "id": "5f9ffee4-591b-4a67-8da2-6ade87caad06",
   "metadata": {},
   "outputs": [
    {
     "name": "stdout",
     "output_type": "stream",
     "text": [
      "['added', 'borrower', 'loan', 'credit', 'pay']\n"
     ]
    }
   ],
   "source": [
    "top_words_list = top_words['Word'].tolist()\n",
    "print(top_words_list)"
   ]
  },
  {
   "cell_type": "code",
   "execution_count": 1594,
   "id": "0cf576ff-154a-4a3b-a7d1-20f5d0601a9d",
   "metadata": {},
   "outputs": [
    {
     "data": {
      "text/plain": [
       "Index(['id', 'loan_amnt', 'emp_length', 'annual_inc', 'delinq_2yrs',\n",
       "       'inq_last_6mths', 'mths_since_last_delinq', 'mths_since_last_record',\n",
       "       'open_acc', 'pub_rec', 'revol_bal', 'revol_util', 'total_acc',\n",
       "       'earliest_cr_line', 'purpose', 'desc', 'loan_status', 'dti',\n",
       "       'credit_age', 'cleaned_desc', 'filtered_desc'],\n",
       "      dtype='object')"
      ]
     },
     "execution_count": 1594,
     "metadata": {},
     "output_type": "execute_result"
    }
   ],
   "source": [
    "df.columns"
   ]
  },
  {
   "cell_type": "code",
   "execution_count": 1595,
   "id": "6f8d2725-2f7a-4dd8-b1ac-f9ca9b08d575",
   "metadata": {},
   "outputs": [
    {
     "name": "stdout",
     "output_type": "stream",
     "text": [
      "Index(['id', 'loan_amnt', 'emp_length', 'annual_inc', 'delinq_2yrs',\n",
      "       'inq_last_6mths', 'mths_since_last_delinq', 'mths_since_last_record',\n",
      "       'open_acc', 'pub_rec', 'revol_bal', 'revol_util', 'total_acc',\n",
      "       'earliest_cr_line', 'purpose', 'desc', 'loan_status', 'dti',\n",
      "       'credit_age', 'cleaned_desc', 'filtered_desc', 'added', 'borrower',\n",
      "       'loan', 'credit', 'pay'],\n",
      "      dtype='object')\n"
     ]
    }
   ],
   "source": [
    "# Create indicator columns for top words\n",
    "for word in top_words_list:\n",
    "    df[word] = df['filtered_desc'].apply(lambda x: 1 if word in x.split() else 0)\n",
    "\n",
    "print(df.columns)"
   ]
  },
  {
   "cell_type": "code",
   "execution_count": 1596,
   "id": "340338b9-b922-4b78-93d6-4df7ecdce019",
   "metadata": {},
   "outputs": [
    {
     "name": "stdout",
     "output_type": "stream",
     "text": [
      "['loan_amnt', 'emp_length', 'annual_inc', 'delinq_2yrs', 'inq_last_6mths', 'mths_since_last_delinq', 'mths_since_last_record', 'open_acc', 'pub_rec', 'revol_bal', 'revol_util', 'total_acc', 'purpose', 'loan_status', 'dti', 'credit_age', 'added', 'borrower', 'loan', 'credit', 'pay']\n"
     ]
    }
   ],
   "source": [
    "# Drop columns\n",
    "columns_to_drop = ['id','cleaned_desc','filtered_desc','desc','earliest_cr_line']\n",
    "df = df.drop(columns=columns_to_drop)\n",
    "print(list(df.columns))"
   ]
  },
  {
   "cell_type": "markdown",
   "id": "ef00a3b7-20af-4ac3-a350-b19f178b1fb0",
   "metadata": {},
   "source": []
  },
  {
   "cell_type": "code",
   "execution_count": null,
   "id": "88e65c70-ecaa-449c-9a77-943304a53332",
   "metadata": {},
   "outputs": [],
   "source": []
  },
  {
   "cell_type": "code",
   "execution_count": 1598,
   "id": "ee05a8b3-30bb-444d-bdf5-0ddb50618110",
   "metadata": {},
   "outputs": [
    {
     "name": "stdout",
     "output_type": "stream",
     "text": [
      "X_train.columns:  Index(['loan_amnt', 'emp_length', 'annual_inc', 'delinq_2yrs',\n",
      "       'inq_last_6mths', 'mths_since_last_delinq', 'mths_since_last_record',\n",
      "       'open_acc', 'pub_rec', 'revol_bal', 'revol_util', 'total_acc',\n",
      "       'purpose', 'dti', 'credit_age', 'added', 'borrower', 'loan', 'credit',\n",
      "       'pay'],\n",
      "      dtype='object')\n",
      "num_variables:  ['loan_amnt', 'emp_length', 'annual_inc', 'delinq_2yrs', 'inq_last_6mths', 'mths_since_last_delinq', 'mths_since_last_record', 'open_acc', 'pub_rec', 'revol_bal', 'revol_util', 'total_acc', 'dti', 'credit_age']\n"
     ]
    }
   ],
   "source": [
    "from sklearn.model_selection import train_test_split\n",
    "\n",
    "y = df['loan_status']  \n",
    "X = df.drop(['loan_status'], axis=1)  \n",
    "\n",
    "# Spliting the data into training and test sets\n",
    "X_train, X_test, y_train, y_test = train_test_split(X, y, test_size=0.3, random_state=42)\n",
    "\n",
    "num_variables = ['loan_amnt', 'emp_length', 'annual_inc', 'delinq_2yrs', 'inq_last_6mths', 'mths_since_last_delinq', 'mths_since_last_record', 'open_acc', 'pub_rec', 'revol_bal', 'revol_util', 'total_acc', 'dti','credit_age']\n",
    "print('X_train.columns: ', X_train.columns)\n",
    "print('num_variables: ',num_variables)\n"
   ]
  },
  {
   "cell_type": "markdown",
   "id": "b5c62258-7f23-4129-966c-b8d9bc41d7aa",
   "metadata": {},
   "source": [
    "### Scaling"
   ]
  },
  {
   "cell_type": "code",
   "execution_count": 1531,
   "id": "e36069cf-44fa-45d6-9fb2-5bf08839cffd",
   "metadata": {},
   "outputs": [],
   "source": [
    "# Scaling\n",
    "# from sklearn.preprocessing import MinMaxScaler\n",
    "# scaler = MinMaxScaler()\n",
    "\n",
    "from sklearn.preprocessing import StandardScaler\n",
    "scaler = StandardScaler()\n",
    "\n",
    "X_train[num_variables] = scaler.fit_transform(X_train[num_variables])\n",
    "# Transform the test data using the same scaler\n",
    "X_test[num_variables] = scaler.transform(X_test[num_variables])"
   ]
  },
  {
   "cell_type": "code",
   "execution_count": 1532,
   "id": "ca5b6555-426e-4a1c-a068-906053d7ba70",
   "metadata": {},
   "outputs": [
    {
     "name": "stdout",
     "output_type": "stream",
     "text": [
      "Feature: loan_amnt, Mean: 11186.92, Scale: 7424.98\n",
      "Feature: emp_length, Mean: 5.03, Scale: 3.36\n",
      "Feature: annual_inc, Mean: 68105.31, Scale: 52014.56\n",
      "Feature: delinq_2yrs, Mean: 0.15, Scale: 0.48\n",
      "Feature: inq_last_6mths, Mean: 0.87, Scale: 1.06\n",
      "Feature: mths_since_last_delinq, Mean: 90.19, Scale: 42.22\n",
      "Feature: mths_since_last_record, Mean: 126.01, Scale: 18.59\n",
      "Feature: open_acc, Mean: 9.32, Scale: 4.41\n",
      "Feature: pub_rec, Mean: 0.06, Scale: 0.24\n",
      "Feature: revol_bal, Mean: 13629.90, Scale: 16277.70\n",
      "Feature: revol_util, Mean: 0.49, Scale: 0.28\n",
      "Feature: total_acc, Mean: 22.20, Scale: 11.45\n",
      "Feature: dti, Mean: 0.19, Scale: 0.12\n",
      "Feature: credit_age, Mean: 27.49, Scale: 6.80\n"
     ]
    }
   ],
   "source": [
    "# Mean of each feature\n",
    "means = scaler.mean_  \n",
    "# Standard deviation of each feature\n",
    "scales = scaler.scale_  \n",
    "for var, mean, scale in zip(num_variables, means, scales):\n",
    "    print(f\"Feature: {var}, Mean: {mean:.2f}, Scale: {scale:.2f}\")"
   ]
  },
  {
   "cell_type": "markdown",
   "id": "ebcf2465-ed77-4f06-99c3-f640f1109659",
   "metadata": {},
   "source": [
    "### Model building, hyperparameter tuning and threshold selection"
   ]
  },
  {
   "cell_type": "code",
   "execution_count": 1630,
   "id": "2d8568b0-0691-471c-ae4f-2c9706df3a58",
   "metadata": {},
   "outputs": [
    {
     "name": "stdout",
     "output_type": "stream",
     "text": [
      "Best Parameters: {'C': 0.1}\n",
      "Best Cross-Validation Score: 0.509151818159324\n",
      "Best Threshold: 0.39\n",
      "Best Macro-Average F1 Score: 0.5694580671385274\n",
      "Test Accuracy: 0.8092315901814301\n",
      "\n",
      "Confusion Matrix:\n",
      " [[ 118  390]\n",
      " [ 325 2915]]\n",
      "\n",
      "Classification Report:\n",
      "               precision    recall  f1-score   support\n",
      "\n",
      "           0       0.27      0.23      0.25       508\n",
      "           1       0.88      0.90      0.89      3240\n",
      "\n",
      "    accuracy                           0.81      3748\n",
      "   macro avg       0.57      0.57      0.57      3748\n",
      "weighted avg       0.80      0.81      0.80      3748\n",
      "\n"
     ]
    }
   ],
   "source": [
    "from sklearn.model_selection import train_test_split, GridSearchCV\n",
    "from sklearn.linear_model import LogisticRegression\n",
    "import numpy as np\n",
    "from sklearn.metrics import f1_score, accuracy_score, classification_report, confusion_matrix\n",
    "\n",
    "\n",
    "param_grid = {\n",
    "    'C': [0.01, 0.1, 1, 10, 100]  # Values to try for the regularization strength\n",
    "}\n",
    "\n",
    "#  Using GridSearchCV with LogisticRegression\n",
    "grid_search = GridSearchCV(\n",
    "    estimator=LogisticRegression(max_iter=2000, class_weight='balanced'),\n",
    "    param_grid=param_grid,\n",
    "    # scoring='roc_auc',\n",
    "    scoring='f1_macro',\n",
    "    cv=10,  #k folds             \n",
    "    verbose=0,           \n",
    "    n_jobs=-1            \n",
    ")\n",
    "\n",
    "grid_search.fit(X_train, y_train)\n",
    "\n",
    "best_model = grid_search.best_estimator_\n",
    "\n",
    "# Generating predicted probabilities on the test set\n",
    "y_pred_prob = best_model.predict_proba(X_test)[:, 1]\n",
    "\n",
    "# Optimizing threshold\n",
    "thresholds = np.linspace(0, 1, 101)\n",
    "best_f1_macro = 0\n",
    "best_threshold = 0\n",
    "\n",
    "for threshold in thresholds:\n",
    "    y_pred_threshold = (y_pred_prob > threshold).astype(int)\n",
    "    f1_macro = f1_score(y_test, y_pred_threshold, average='macro')\n",
    "    if f1_macro > best_f1_macro:\n",
    "        best_f1_macro = f1_macro\n",
    "        best_threshold = threshold\n",
    "\n",
    "# Applying the best threshold to make final predictions\n",
    "y_pred_best = (y_pred_prob > best_threshold).astype(int)\n",
    "\n",
    "# Evaluating the model\n",
    "accuracy = accuracy_score(y_test, y_pred_best)\n",
    "conf_matrix = confusion_matrix(y_test, y_pred_best)\n",
    "classification_rep = classification_report(y_test, y_pred_best)\n",
    "\n",
    "print(f\"Best Parameters: {grid_search.best_params_}\")\n",
    "# print(f\"Best Cross-Validation Score: {grid_search.best_score_}\")\n",
    "print(f\"Best Threshold: {best_threshold}\")\n",
    "print(f\"Best Macro-Average F1 Score: {best_f1_macro}\")\n",
    "print(f\"Test Accuracy: {accuracy}\")\n",
    "print(\"\\nConfusion Matrix:\\n\", conf_matrix)\n",
    "print(\"\\nClassification Report:\\n\", classification_rep)\n"
   ]
  },
  {
   "cell_type": "code",
   "execution_count": null,
   "id": "acc89a06-0079-45b1-981d-cd86364b5efd",
   "metadata": {},
   "outputs": [],
   "source": []
  },
  {
   "cell_type": "code",
   "execution_count": 1440,
   "id": "8674e804-6596-4cab-9148-9c0ec76a7875",
   "metadata": {},
   "outputs": [
    {
     "data": {
      "text/plain": [
       "array([[-2.91221706e-05,  1.39256774e-03,  8.56201501e-06,\n",
       "        -8.66516084e-02, -3.59233885e-01,  2.76727640e-03,\n",
       "        -1.57936070e-03, -1.60603324e-02, -1.11302636e-01,\n",
       "        -8.17229202e-06, -2.57018980e-01,  1.85940807e-02,\n",
       "         2.10111678e-01, -1.66121271e-02, -4.78232625e-03,\n",
       "        -1.26739806e-02, -2.16543672e-02,  5.16694114e-02,\n",
       "         1.83890277e-01, -1.35021710e-02]])"
      ]
     },
     "execution_count": 1440,
     "metadata": {},
     "output_type": "execute_result"
    }
   ],
   "source": [
    "model.coef_  #coefficients"
   ]
  },
  {
   "cell_type": "code",
   "execution_count": 1441,
   "id": "06b00d09-ae11-4489-a4e3-b07d3b249905",
   "metadata": {},
   "outputs": [
    {
     "data": {
      "text/plain": [
       "0.0013925677382335545"
      ]
     },
     "execution_count": 1441,
     "metadata": {},
     "output_type": "execute_result"
    }
   ],
   "source": [
    "model.coef_[0][1]"
   ]
  },
  {
   "cell_type": "code",
   "execution_count": 1485,
   "id": "4f407245-f10d-4c4a-86cf-ca7f5ccd3bec",
   "metadata": {
    "scrolled": true
   },
   "outputs": [],
   "source": [
    "intercept_val= model.intercept_[0]  # intercept"
   ]
  },
  {
   "cell_type": "code",
   "execution_count": 1487,
   "id": "6ddeb9e8-1744-456b-941a-f6d2bffb9268",
   "metadata": {},
   "outputs": [
    {
     "name": "stdout",
     "output_type": "stream",
     "text": [
      "intercept value:  -0.03214149408297314\n"
     ]
    }
   ],
   "source": [
    "print(\"intercept value: \",intercept_val)"
   ]
  },
  {
   "cell_type": "code",
   "execution_count": 1443,
   "id": "98d06a6f-4a80-4c80-a1ee-faddd27f7d75",
   "metadata": {},
   "outputs": [
    {
     "name": "stdout",
     "output_type": "stream",
     "text": [
      "                   Feature  Coefficient\n",
      "0                loan_amnt    -0.000029\n",
      "1               emp_length     0.001393\n",
      "2               annual_inc     0.000009\n",
      "3              delinq_2yrs    -0.086652\n",
      "4           inq_last_6mths    -0.359234\n",
      "5   mths_since_last_delinq     0.002767\n",
      "6   mths_since_last_record    -0.001579\n",
      "7                 open_acc    -0.016060\n",
      "8                  pub_rec    -0.111303\n",
      "9                revol_bal    -0.000008\n",
      "10              revol_util    -0.257019\n",
      "11               total_acc     0.018594\n",
      "12                 purpose     0.210112\n",
      "13                     dti    -0.016612\n",
      "14              credit_age    -0.004782\n",
      "15                   added    -0.012674\n",
      "16                borrower    -0.021654\n",
      "17                    loan     0.051669\n",
      "18                  credit     0.183890\n",
      "19                     pay    -0.013502\n"
     ]
    }
   ],
   "source": [
    "#coefficients\n",
    "coefficients = model.coef_[0] \n",
    "feature_names = X_train.columns\n",
    "coef_df = pd.DataFrame({\n",
    "    'Feature': feature_names,\n",
    "    'Coefficient': coefficients\n",
    "})\n",
    "\n",
    "print(coef_df)"
   ]
  },
  {
   "cell_type": "code",
   "execution_count": 1483,
   "id": "0e58e061-5f8c-4bc2-b419-22a7d6a943ca",
   "metadata": {},
   "outputs": [
    {
     "name": "stdout",
     "output_type": "stream",
     "text": [
      "cutoff_credit_score:  390.0\n"
     ]
    }
   ],
   "source": [
    "cutoff_credit_score =best_threshold*1000\n",
    "print('cutoff_credit_score: ', cutoff_credit_score)"
   ]
  },
  {
   "cell_type": "code",
   "execution_count": null,
   "id": "baa09833-fb58-4cea-878f-45db2e6748bf",
   "metadata": {},
   "outputs": [],
   "source": []
  }
 ],
 "metadata": {
  "kernelspec": {
   "display_name": "Python 3 (ipykernel)",
   "language": "python",
   "name": "python3"
  },
  "language_info": {
   "codemirror_mode": {
    "name": "ipython",
    "version": 3
   },
   "file_extension": ".py",
   "mimetype": "text/x-python",
   "name": "python",
   "nbconvert_exporter": "python",
   "pygments_lexer": "ipython3",
   "version": "3.12.4"
  }
 },
 "nbformat": 4,
 "nbformat_minor": 5
}
